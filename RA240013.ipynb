{
 "cells": [
  {
   "cell_type": "code",
   "execution_count": 1,
   "id": "43cd62ca",
   "metadata": {},
   "outputs": [],
   "source": [
    "%defaultDatasource jdbc:h2:mem:db"
   ]
  },
  {
   "cell_type": "code",
   "execution_count": 14,
   "id": "7c47771b",
   "metadata": {},
   "outputs": [],
   "source": [
    "DROP TABLE IF EXISTS Pessoa;\n",
    "DROP TABLE IF EXISTS Cidade;"
   ]
  },
  {
   "cell_type": "code",
   "execution_count": 15,
   "id": "c0ace635",
   "metadata": {},
   "outputs": [],
   "source": [
    "CREATE TABLE Cidade (\n",
    "  Nome_Cidade VARCHAR(100) NOT NULL,\n",
    "  Sigla_Estado VARCHAR(2) NOT NULL,\n",
    "  PRIMARY KEY(Nome_Cidade)\n",
    ");\n",
    "\n",
    "CREATE TABLE Pessoa (\n",
    "  Nome VARCHAR(100) NOT NULL,\n",
    "  Nome_da_Mae VARCHAR(100) NOT NULL,\n",
    "  Ano_de_Nascimento INTEGER NOT NULL,\n",
    "  Nome_da_Cidade_Natal VARCHAR(100) NOT NULL,\n",
    "  \n",
    "  PRIMARY KEY(Nome),\n",
    "  FOREIGN KEY(Nome_da_Cidade_Natal)\n",
    "    REFERENCES Cidade(Nome_Cidade)\n",
    "      ON DELETE NO ACTION\n",
    "      ON UPDATE NO ACTION,  \n",
    ");\n"
   ]
  },
  {
   "cell_type": "code",
   "execution_count": 16,
   "id": "4c072e4f",
   "metadata": {},
   "outputs": [],
   "source": [
    "INSERT INTO Cidade VALUES ('São Paulo', 'SP');\n",
    "INSERT INTO Cidade VALUES ('Valinhos', 'SP');\n",
    "INSERT INTO Cidade VALUES ('Serra Negra', 'SP');\n",
    "INSERT INTO Cidade VALUES ('Jaguariúna', 'SP');"
   ]
  },
  {
   "cell_type": "code",
   "execution_count": 17,
   "id": "4ac44426",
   "metadata": {},
   "outputs": [],
   "source": [
    "INSERT INTO Pessoa VALUES ('Áureo Henrique Silva', 'Eduarda de Almeida Silva', 2015,'São Paulo');\n",
    "INSERT INTO Pessoa VALUES ('Eduardo Gomes', 'Doriana da Mata Gomes', 1975,'Valinhos');\n",
    "INSERT INTO Pessoa VALUES ('Vanessa Lopes', 'Letícia França Lopes', 1976,'Serra Negra');\n",
    "INSERT INTO Pessoa VALUES ('Carla Silva', 'Melissa do Carmo da Silva', 1981,'Jaguariúna');"
   ]
  },
  {
   "cell_type": "code",
   "execution_count": 18,
   "id": "90bd67bd",
   "metadata": {},
   "outputs": [
    {
     "data": {
      "application/vnd.jupyter.widget-view+json": {
       "model_id": "870cb65f-d826-4281-a2a8-87a4dbd82db3",
       "version_major": 2,
       "version_minor": 0
      },
      "method": "display_data"
     },
     "metadata": {},
     "output_type": "display_data"
    }
   ],
   "source": [
    "SELECT * FROM Cidade;"
   ]
  },
  {
   "cell_type": "code",
   "execution_count": 19,
   "id": "57f82b0c",
   "metadata": {},
   "outputs": [
    {
     "data": {
      "application/vnd.jupyter.widget-view+json": {
       "model_id": "4f797db8-ca6b-471f-8a4c-dfe4d96c893e",
       "version_major": 2,
       "version_minor": 0
      },
      "method": "display_data"
     },
     "metadata": {},
     "output_type": "display_data"
    }
   ],
   "source": [
    "SELECT * FROM Pessoa;"
   ]
  },
  {
   "cell_type": "code",
   "execution_count": 20,
   "id": "f0cf9960",
   "metadata": {},
   "outputs": [
    {
     "data": {
      "application/vnd.jupyter.widget-view+json": {
       "model_id": "434accbb-5033-48e6-8f6e-f469e98d3394",
       "version_major": 2,
       "version_minor": 0
      },
      "method": "display_data"
     },
     "metadata": {},
     "output_type": "display_data"
    }
   ],
   "source": [
    "SELECT Nome_da_Mae FROM Pessoa;"
   ]
  },
  {
   "cell_type": "code",
   "execution_count": 21,
   "id": "3be79040",
   "metadata": {},
   "outputs": [
    {
     "data": {
      "application/vnd.jupyter.widget-view+json": {
       "model_id": "22b10488-4812-4510-a3ff-514bba0dca63",
       "version_major": 2,
       "version_minor": 0
      },
      "method": "display_data"
     },
     "metadata": {},
     "output_type": "display_data"
    }
   ],
   "source": [
    "SELECT Nome_da_Mae FROM Pessoa WHERE (2021 - Ano_de_Nascimento) > 12;"
   ]
  }
 ],
 "metadata": {
  "kernelspec": {
   "display_name": "SQL",
   "language": "SQL",
   "name": "sql"
  },
  "language_info": {
   "codemirror_mode": "sql",
   "file_extension": ".sql",
   "mimetype": "",
   "name": "SQL",
   "nbconverter_exporter": "",
   "version": ""
  },
  "toc": {
   "base_numbering": 1,
   "nav_menu": {},
   "number_sections": false,
   "sideBar": false,
   "skip_h1_title": false,
   "title_cell": "Table of Contents",
   "title_sidebar": "Contents",
   "toc_cell": false,
   "toc_position": {},
   "toc_section_display": false,
   "toc_window_display": false
  }
 },
 "nbformat": 4,
 "nbformat_minor": 5
}
